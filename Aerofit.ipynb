{
 "cells": [
  {
   "cell_type": "code",
   "execution_count": 362,
   "id": "5eb843ed",
   "metadata": {},
   "outputs": [],
   "source": [
    "import numpy as np\n",
    "import pandas as pd\n",
    "import matplotlib.pyplot as plt\n",
    "import seaborn as sns"
   ]
  },
  {
   "cell_type": "code",
   "execution_count": 363,
   "id": "05dcb986",
   "metadata": {},
   "outputs": [
    {
     "data": {
      "text/html": [
       "<div>\n",
       "<style scoped>\n",
       "    .dataframe tbody tr th:only-of-type {\n",
       "        vertical-align: middle;\n",
       "    }\n",
       "\n",
       "    .dataframe tbody tr th {\n",
       "        vertical-align: top;\n",
       "    }\n",
       "\n",
       "    .dataframe thead th {\n",
       "        text-align: right;\n",
       "    }\n",
       "</style>\n",
       "<table border=\"1\" class=\"dataframe\">\n",
       "  <thead>\n",
       "    <tr style=\"text-align: right;\">\n",
       "      <th></th>\n",
       "      <th>Product</th>\n",
       "      <th>Age</th>\n",
       "      <th>Gender</th>\n",
       "      <th>Education</th>\n",
       "      <th>MaritalStatus</th>\n",
       "      <th>Usage</th>\n",
       "      <th>Fitness</th>\n",
       "      <th>Income</th>\n",
       "      <th>Miles</th>\n",
       "    </tr>\n",
       "  </thead>\n",
       "  <tbody>\n",
       "    <tr>\n",
       "      <th>0</th>\n",
       "      <td>KP281</td>\n",
       "      <td>18</td>\n",
       "      <td>Male</td>\n",
       "      <td>14</td>\n",
       "      <td>Single</td>\n",
       "      <td>3</td>\n",
       "      <td>4</td>\n",
       "      <td>29562</td>\n",
       "      <td>112</td>\n",
       "    </tr>\n",
       "    <tr>\n",
       "      <th>1</th>\n",
       "      <td>KP281</td>\n",
       "      <td>19</td>\n",
       "      <td>Male</td>\n",
       "      <td>15</td>\n",
       "      <td>Single</td>\n",
       "      <td>2</td>\n",
       "      <td>3</td>\n",
       "      <td>31836</td>\n",
       "      <td>75</td>\n",
       "    </tr>\n",
       "    <tr>\n",
       "      <th>2</th>\n",
       "      <td>KP281</td>\n",
       "      <td>19</td>\n",
       "      <td>Female</td>\n",
       "      <td>14</td>\n",
       "      <td>Partnered</td>\n",
       "      <td>4</td>\n",
       "      <td>3</td>\n",
       "      <td>30699</td>\n",
       "      <td>66</td>\n",
       "    </tr>\n",
       "    <tr>\n",
       "      <th>3</th>\n",
       "      <td>KP281</td>\n",
       "      <td>19</td>\n",
       "      <td>Male</td>\n",
       "      <td>12</td>\n",
       "      <td>Single</td>\n",
       "      <td>3</td>\n",
       "      <td>3</td>\n",
       "      <td>32973</td>\n",
       "      <td>85</td>\n",
       "    </tr>\n",
       "    <tr>\n",
       "      <th>4</th>\n",
       "      <td>KP281</td>\n",
       "      <td>20</td>\n",
       "      <td>Male</td>\n",
       "      <td>13</td>\n",
       "      <td>Partnered</td>\n",
       "      <td>4</td>\n",
       "      <td>2</td>\n",
       "      <td>35247</td>\n",
       "      <td>47</td>\n",
       "    </tr>\n",
       "    <tr>\n",
       "      <th>...</th>\n",
       "      <td>...</td>\n",
       "      <td>...</td>\n",
       "      <td>...</td>\n",
       "      <td>...</td>\n",
       "      <td>...</td>\n",
       "      <td>...</td>\n",
       "      <td>...</td>\n",
       "      <td>...</td>\n",
       "      <td>...</td>\n",
       "    </tr>\n",
       "    <tr>\n",
       "      <th>175</th>\n",
       "      <td>KP781</td>\n",
       "      <td>40</td>\n",
       "      <td>Male</td>\n",
       "      <td>21</td>\n",
       "      <td>Single</td>\n",
       "      <td>6</td>\n",
       "      <td>5</td>\n",
       "      <td>83416</td>\n",
       "      <td>200</td>\n",
       "    </tr>\n",
       "    <tr>\n",
       "      <th>176</th>\n",
       "      <td>KP781</td>\n",
       "      <td>42</td>\n",
       "      <td>Male</td>\n",
       "      <td>18</td>\n",
       "      <td>Single</td>\n",
       "      <td>5</td>\n",
       "      <td>4</td>\n",
       "      <td>89641</td>\n",
       "      <td>200</td>\n",
       "    </tr>\n",
       "    <tr>\n",
       "      <th>177</th>\n",
       "      <td>KP781</td>\n",
       "      <td>45</td>\n",
       "      <td>Male</td>\n",
       "      <td>16</td>\n",
       "      <td>Single</td>\n",
       "      <td>5</td>\n",
       "      <td>5</td>\n",
       "      <td>90886</td>\n",
       "      <td>160</td>\n",
       "    </tr>\n",
       "    <tr>\n",
       "      <th>178</th>\n",
       "      <td>KP781</td>\n",
       "      <td>47</td>\n",
       "      <td>Male</td>\n",
       "      <td>18</td>\n",
       "      <td>Partnered</td>\n",
       "      <td>4</td>\n",
       "      <td>5</td>\n",
       "      <td>104581</td>\n",
       "      <td>120</td>\n",
       "    </tr>\n",
       "    <tr>\n",
       "      <th>179</th>\n",
       "      <td>KP781</td>\n",
       "      <td>48</td>\n",
       "      <td>Male</td>\n",
       "      <td>18</td>\n",
       "      <td>Partnered</td>\n",
       "      <td>4</td>\n",
       "      <td>5</td>\n",
       "      <td>95508</td>\n",
       "      <td>180</td>\n",
       "    </tr>\n",
       "  </tbody>\n",
       "</table>\n",
       "<p>180 rows × 9 columns</p>\n",
       "</div>"
      ],
      "text/plain": [
       "    Product  Age  Gender  Education MaritalStatus  Usage  Fitness  Income  \\\n",
       "0     KP281   18    Male         14        Single      3        4   29562   \n",
       "1     KP281   19    Male         15        Single      2        3   31836   \n",
       "2     KP281   19  Female         14     Partnered      4        3   30699   \n",
       "3     KP281   19    Male         12        Single      3        3   32973   \n",
       "4     KP281   20    Male         13     Partnered      4        2   35247   \n",
       "..      ...  ...     ...        ...           ...    ...      ...     ...   \n",
       "175   KP781   40    Male         21        Single      6        5   83416   \n",
       "176   KP781   42    Male         18        Single      5        4   89641   \n",
       "177   KP781   45    Male         16        Single      5        5   90886   \n",
       "178   KP781   47    Male         18     Partnered      4        5  104581   \n",
       "179   KP781   48    Male         18     Partnered      4        5   95508   \n",
       "\n",
       "     Miles  \n",
       "0      112  \n",
       "1       75  \n",
       "2       66  \n",
       "3       85  \n",
       "4       47  \n",
       "..     ...  \n",
       "175    200  \n",
       "176    200  \n",
       "177    160  \n",
       "178    120  \n",
       "179    180  \n",
       "\n",
       "[180 rows x 9 columns]"
      ]
     },
     "execution_count": 363,
     "metadata": {},
     "output_type": "execute_result"
    }
   ],
   "source": [
    "df=pd.read_csv(r\"C:\\Users\\hp\\Downloads\\aerofit_treadmill.csv\")\n",
    "df"
   ]
  },
  {
   "cell_type": "code",
   "execution_count": 364,
   "id": "0462d7d7",
   "metadata": {},
   "outputs": [
    {
     "data": {
      "text/plain": [
       "(180, 9)"
      ]
     },
     "execution_count": 364,
     "metadata": {},
     "output_type": "execute_result"
    }
   ],
   "source": [
    "df.shape"
   ]
  },
  {
   "cell_type": "code",
   "execution_count": 365,
   "id": "769647bf",
   "metadata": {},
   "outputs": [
    {
     "data": {
      "text/plain": [
       "1620"
      ]
     },
     "execution_count": 365,
     "metadata": {},
     "output_type": "execute_result"
    }
   ],
   "source": [
    "df.size"
   ]
  },
  {
   "cell_type": "code",
   "execution_count": 366,
   "id": "f629edfa",
   "metadata": {},
   "outputs": [
    {
     "data": {
      "text/plain": [
       "Index(['Product', 'Age', 'Gender', 'Education', 'MaritalStatus', 'Usage',\n",
       "       'Fitness', 'Income', 'Miles'],\n",
       "      dtype='object')"
      ]
     },
     "execution_count": 366,
     "metadata": {},
     "output_type": "execute_result"
    }
   ],
   "source": [
    "df.columns"
   ]
  },
  {
   "cell_type": "code",
   "execution_count": 367,
   "id": "8b1a02cc",
   "metadata": {},
   "outputs": [
    {
     "name": "stdout",
     "output_type": "stream",
     "text": [
      "<class 'pandas.core.frame.DataFrame'>\n",
      "RangeIndex: 180 entries, 0 to 179\n",
      "Data columns (total 9 columns):\n",
      " #   Column         Non-Null Count  Dtype \n",
      "---  ------         --------------  ----- \n",
      " 0   Product        180 non-null    object\n",
      " 1   Age            180 non-null    int64 \n",
      " 2   Gender         180 non-null    object\n",
      " 3   Education      180 non-null    int64 \n",
      " 4   MaritalStatus  180 non-null    object\n",
      " 5   Usage          180 non-null    int64 \n",
      " 6   Fitness        180 non-null    int64 \n",
      " 7   Income         180 non-null    int64 \n",
      " 8   Miles          180 non-null    int64 \n",
      "dtypes: int64(6), object(3)\n",
      "memory usage: 12.8+ KB\n"
     ]
    }
   ],
   "source": [
    "df.info()"
   ]
  },
  {
   "cell_type": "markdown",
   "id": "4bb41889",
   "metadata": {},
   "source": [
    "This shows that there are no null values in the data."
   ]
  },
  {
   "cell_type": "code",
   "execution_count": 368,
   "id": "0ecab614",
   "metadata": {},
   "outputs": [
    {
     "data": {
      "text/html": [
       "<div>\n",
       "<style scoped>\n",
       "    .dataframe tbody tr th:only-of-type {\n",
       "        vertical-align: middle;\n",
       "    }\n",
       "\n",
       "    .dataframe tbody tr th {\n",
       "        vertical-align: top;\n",
       "    }\n",
       "\n",
       "    .dataframe thead th {\n",
       "        text-align: right;\n",
       "    }\n",
       "</style>\n",
       "<table border=\"1\" class=\"dataframe\">\n",
       "  <thead>\n",
       "    <tr style=\"text-align: right;\">\n",
       "      <th></th>\n",
       "      <th>Age</th>\n",
       "      <th>Education</th>\n",
       "      <th>Usage</th>\n",
       "      <th>Fitness</th>\n",
       "      <th>Income</th>\n",
       "      <th>Miles</th>\n",
       "    </tr>\n",
       "  </thead>\n",
       "  <tbody>\n",
       "    <tr>\n",
       "      <th>count</th>\n",
       "      <td>180.000000</td>\n",
       "      <td>180.000000</td>\n",
       "      <td>180.000000</td>\n",
       "      <td>180.000000</td>\n",
       "      <td>180.000000</td>\n",
       "      <td>180.000000</td>\n",
       "    </tr>\n",
       "    <tr>\n",
       "      <th>mean</th>\n",
       "      <td>28.788889</td>\n",
       "      <td>15.572222</td>\n",
       "      <td>3.455556</td>\n",
       "      <td>3.311111</td>\n",
       "      <td>53719.577778</td>\n",
       "      <td>103.194444</td>\n",
       "    </tr>\n",
       "    <tr>\n",
       "      <th>std</th>\n",
       "      <td>6.943498</td>\n",
       "      <td>1.617055</td>\n",
       "      <td>1.084797</td>\n",
       "      <td>0.958869</td>\n",
       "      <td>16506.684226</td>\n",
       "      <td>51.863605</td>\n",
       "    </tr>\n",
       "    <tr>\n",
       "      <th>min</th>\n",
       "      <td>18.000000</td>\n",
       "      <td>12.000000</td>\n",
       "      <td>2.000000</td>\n",
       "      <td>1.000000</td>\n",
       "      <td>29562.000000</td>\n",
       "      <td>21.000000</td>\n",
       "    </tr>\n",
       "    <tr>\n",
       "      <th>25%</th>\n",
       "      <td>24.000000</td>\n",
       "      <td>14.000000</td>\n",
       "      <td>3.000000</td>\n",
       "      <td>3.000000</td>\n",
       "      <td>44058.750000</td>\n",
       "      <td>66.000000</td>\n",
       "    </tr>\n",
       "    <tr>\n",
       "      <th>50%</th>\n",
       "      <td>26.000000</td>\n",
       "      <td>16.000000</td>\n",
       "      <td>3.000000</td>\n",
       "      <td>3.000000</td>\n",
       "      <td>50596.500000</td>\n",
       "      <td>94.000000</td>\n",
       "    </tr>\n",
       "    <tr>\n",
       "      <th>75%</th>\n",
       "      <td>33.000000</td>\n",
       "      <td>16.000000</td>\n",
       "      <td>4.000000</td>\n",
       "      <td>4.000000</td>\n",
       "      <td>58668.000000</td>\n",
       "      <td>114.750000</td>\n",
       "    </tr>\n",
       "    <tr>\n",
       "      <th>max</th>\n",
       "      <td>50.000000</td>\n",
       "      <td>21.000000</td>\n",
       "      <td>7.000000</td>\n",
       "      <td>5.000000</td>\n",
       "      <td>104581.000000</td>\n",
       "      <td>360.000000</td>\n",
       "    </tr>\n",
       "  </tbody>\n",
       "</table>\n",
       "</div>"
      ],
      "text/plain": [
       "              Age   Education       Usage     Fitness         Income  \\\n",
       "count  180.000000  180.000000  180.000000  180.000000     180.000000   \n",
       "mean    28.788889   15.572222    3.455556    3.311111   53719.577778   \n",
       "std      6.943498    1.617055    1.084797    0.958869   16506.684226   \n",
       "min     18.000000   12.000000    2.000000    1.000000   29562.000000   \n",
       "25%     24.000000   14.000000    3.000000    3.000000   44058.750000   \n",
       "50%     26.000000   16.000000    3.000000    3.000000   50596.500000   \n",
       "75%     33.000000   16.000000    4.000000    4.000000   58668.000000   \n",
       "max     50.000000   21.000000    7.000000    5.000000  104581.000000   \n",
       "\n",
       "            Miles  \n",
       "count  180.000000  \n",
       "mean   103.194444  \n",
       "std     51.863605  \n",
       "min     21.000000  \n",
       "25%     66.000000  \n",
       "50%     94.000000  \n",
       "75%    114.750000  \n",
       "max    360.000000  "
      ]
     },
     "execution_count": 368,
     "metadata": {},
     "output_type": "execute_result"
    }
   ],
   "source": [
    "#For numerical variables\n",
    "df.describe()"
   ]
  },
  {
   "cell_type": "code",
   "execution_count": 451,
   "id": "f5ae5602",
   "metadata": {},
   "outputs": [
    {
     "data": {
      "text/plain": [
       "Product          0\n",
       "Age              0\n",
       "Gender           0\n",
       "Education        0\n",
       "MaritalStatus    0\n",
       "Usage            0\n",
       "Fitness          0\n",
       "Income           0\n",
       "Miles            0\n",
       "dtype: int64"
      ]
     },
     "execution_count": 451,
     "metadata": {},
     "output_type": "execute_result"
    }
   ],
   "source": [
    "df.isnull().sum()"
   ]
  },
  {
   "cell_type": "markdown",
   "id": "2417b0f3",
   "metadata": {},
   "source": [
    "No Null Values"
   ]
  },
  {
   "cell_type": "code",
   "execution_count": 369,
   "id": "abff2905",
   "metadata": {},
   "outputs": [
    {
     "data": {
      "text/html": [
       "<div>\n",
       "<style scoped>\n",
       "    .dataframe tbody tr th:only-of-type {\n",
       "        vertical-align: middle;\n",
       "    }\n",
       "\n",
       "    .dataframe tbody tr th {\n",
       "        vertical-align: top;\n",
       "    }\n",
       "\n",
       "    .dataframe thead th {\n",
       "        text-align: right;\n",
       "    }\n",
       "</style>\n",
       "<table border=\"1\" class=\"dataframe\">\n",
       "  <thead>\n",
       "    <tr style=\"text-align: right;\">\n",
       "      <th></th>\n",
       "      <th>Product</th>\n",
       "      <th>Gender</th>\n",
       "      <th>MaritalStatus</th>\n",
       "    </tr>\n",
       "  </thead>\n",
       "  <tbody>\n",
       "    <tr>\n",
       "      <th>count</th>\n",
       "      <td>180</td>\n",
       "      <td>180</td>\n",
       "      <td>180</td>\n",
       "    </tr>\n",
       "    <tr>\n",
       "      <th>unique</th>\n",
       "      <td>3</td>\n",
       "      <td>2</td>\n",
       "      <td>2</td>\n",
       "    </tr>\n",
       "    <tr>\n",
       "      <th>top</th>\n",
       "      <td>KP281</td>\n",
       "      <td>Male</td>\n",
       "      <td>Partnered</td>\n",
       "    </tr>\n",
       "    <tr>\n",
       "      <th>freq</th>\n",
       "      <td>80</td>\n",
       "      <td>104</td>\n",
       "      <td>107</td>\n",
       "    </tr>\n",
       "  </tbody>\n",
       "</table>\n",
       "</div>"
      ],
      "text/plain": [
       "       Product Gender MaritalStatus\n",
       "count      180    180           180\n",
       "unique       3      2             2\n",
       "top      KP281   Male     Partnered\n",
       "freq        80    104           107"
      ]
     },
     "execution_count": 369,
     "metadata": {},
     "output_type": "execute_result"
    }
   ],
   "source": [
    "#For categorical variables\n",
    "df.describe(include=object)"
   ]
  },
  {
   "cell_type": "code",
   "execution_count": 370,
   "id": "06fc0652",
   "metadata": {},
   "outputs": [
    {
     "data": {
      "text/plain": [
       "KP281    80\n",
       "KP481    60\n",
       "KP781    40\n",
       "Name: Product, dtype: int64"
      ]
     },
     "execution_count": 370,
     "metadata": {},
     "output_type": "execute_result"
    }
   ],
   "source": [
    "df['Product'].value_counts()"
   ]
  },
  {
   "cell_type": "code",
   "execution_count": 371,
   "id": "370a083f",
   "metadata": {},
   "outputs": [
    {
     "data": {
      "text/plain": [
       "array(['KP281', 'KP481', 'KP781'], dtype=object)"
      ]
     },
     "execution_count": 371,
     "metadata": {},
     "output_type": "execute_result"
    }
   ],
   "source": [
    "df['Product'].unique()"
   ]
  },
  {
   "cell_type": "code",
   "execution_count": 372,
   "id": "b1a9dc9e",
   "metadata": {},
   "outputs": [
    {
     "data": {
      "text/plain": [
       "array([14, 15, 12, 13, 16, 18, 20, 21], dtype=int64)"
      ]
     },
     "execution_count": 372,
     "metadata": {},
     "output_type": "execute_result"
    }
   ],
   "source": [
    "df['Education'].unique()"
   ]
  },
  {
   "cell_type": "code",
   "execution_count": 373,
   "id": "8cdef61f",
   "metadata": {},
   "outputs": [
    {
     "data": {
      "text/plain": [
       "array(['Male', 'Female'], dtype=object)"
      ]
     },
     "execution_count": 373,
     "metadata": {},
     "output_type": "execute_result"
    }
   ],
   "source": [
    "df['Gender'].unique()"
   ]
  },
  {
   "cell_type": "code",
   "execution_count": 374,
   "id": "4fd5915c",
   "metadata": {},
   "outputs": [
    {
     "data": {
      "text/html": [
       "<div>\n",
       "<style scoped>\n",
       "    .dataframe tbody tr th:only-of-type {\n",
       "        vertical-align: middle;\n",
       "    }\n",
       "\n",
       "    .dataframe tbody tr th {\n",
       "        vertical-align: top;\n",
       "    }\n",
       "\n",
       "    .dataframe thead th {\n",
       "        text-align: right;\n",
       "    }\n",
       "</style>\n",
       "<table border=\"1\" class=\"dataframe\">\n",
       "  <thead>\n",
       "    <tr style=\"text-align: right;\">\n",
       "      <th></th>\n",
       "      <th>Product</th>\n",
       "      <th>Age</th>\n",
       "      <th>Gender</th>\n",
       "      <th>Education</th>\n",
       "      <th>MaritalStatus</th>\n",
       "      <th>Usage</th>\n",
       "      <th>Fitness</th>\n",
       "      <th>Income</th>\n",
       "      <th>Miles</th>\n",
       "    </tr>\n",
       "  </thead>\n",
       "  <tbody>\n",
       "  </tbody>\n",
       "</table>\n",
       "</div>"
      ],
      "text/plain": [
       "Empty DataFrame\n",
       "Columns: [Product, Age, Gender, Education, MaritalStatus, Usage, Fitness, Income, Miles]\n",
       "Index: []"
      ]
     },
     "execution_count": 374,
     "metadata": {},
     "output_type": "execute_result"
    }
   ],
   "source": [
    "df[df.duplicated()]"
   ]
  },
  {
   "cell_type": "markdown",
   "id": "16389f66",
   "metadata": {},
   "source": [
    "- There are no duplicates as can be seen in the above output."
   ]
  },
  {
   "cell_type": "markdown",
   "id": "bf3cfdc7",
   "metadata": {},
   "source": [
    "# Outliers Detection and Univariate Analysis"
   ]
  },
  {
   "cell_type": "code",
   "execution_count": 375,
   "id": "aadefdc2",
   "metadata": {},
   "outputs": [
    {
     "name": "stderr",
     "output_type": "stream",
     "text": [
      "C:\\Users\\hp\\anaconda3\\lib\\site-packages\\seaborn\\_decorators.py:36: FutureWarning: Pass the following variable as a keyword arg: x. From version 0.12, the only valid positional argument will be `data`, and passing other arguments without an explicit keyword will result in an error or misinterpretation.\n",
      "  warnings.warn(\n"
     ]
    },
    {
     "data": {
      "image/png": "[encoded data removed]",
      "text/plain": [
       "<Figure size 432x288 with 1 Axes>"
      ]
     },
     "metadata": {
      "needs_background": "light"
     },
     "output_type": "display_data"
    }
   ],
   "source": [
    "sns.boxplot(df['Income'])\n",
    "plt.show()"
   ]
  },
  {
   "cell_type": "code",
   "execution_count": 376,
   "id": "61600aaf",
   "metadata": {},
   "outputs": [
    {
     "data": {
      "text/plain": [
       "(array([44058.75]), array([58668.]), 53719.57777777778, array([50596.5]))"
      ]
     },
     "execution_count": 376,
     "metadata": {},
     "output_type": "execute_result"
    }
   ],
   "source": [
    "Q1=np.percentile(df['Income'],[25])\n",
    "Q3=np.percentile(df['Income'],[75])\n",
    "Mean=np.mean(df['Income'])\n",
    "Median=np.percentile(df['Income'],[50])\n",
    "Q1,Q3,Mean,Median"
   ]
  },
  {
   "cell_type": "code",
   "execution_count": 377,
   "id": "ceea5510",
   "metadata": {},
   "outputs": [
    {
     "data": {
      "text/plain": [
       "array([50596.5])"
      ]
     },
     "execution_count": 377,
     "metadata": {},
     "output_type": "execute_result"
    }
   ],
   "source": [
    "np.percentile(df['Income'],[50])"
   ]
  },
  {
   "cell_type": "code",
   "execution_count": 378,
   "id": "af7e79ad",
   "metadata": {},
   "outputs": [
    {
     "data": {
      "text/plain": [
       "array([14609.25])"
      ]
     },
     "execution_count": 378,
     "metadata": {},
     "output_type": "execute_result"
    }
   ],
   "source": [
    "IQR=Q3-Q1\n",
    "IQR"
   ]
  },
  {
   "cell_type": "code",
   "execution_count": 379,
   "id": "76c197b4",
   "metadata": {},
   "outputs": [
    {
     "data": {
      "text/plain": [
       "(array([22144.875]), array([80581.875]))"
      ]
     },
     "execution_count": 379,
     "metadata": {},
     "output_type": "execute_result"
    }
   ],
   "source": [
    "Lower_Whisker=Q1-(1.5*IQR)\n",
    "Upper_Whisker=Q3+(1.5*IQR)\n",
    "Lower_Whisker,Upper_Whisker"
   ]
  },
  {
   "cell_type": "markdown",
   "id": "6e9f9566",
   "metadata": {},
   "source": [
    "- Observations:\n",
    "    - Mean Salary is 53719.\n",
    "    - Median  Salary is $ 50596. \n",
    "    \n",
    "    - Salary greater than $ 80581.875 are outliers."
   ]
  },
  {
   "cell_type": "code",
   "execution_count": 380,
   "id": "a6eafbe7",
   "metadata": {},
   "outputs": [
    {
     "name": "stderr",
     "output_type": "stream",
     "text": [
      "C:\\Users\\hp\\anaconda3\\lib\\site-packages\\seaborn\\_decorators.py:36: FutureWarning: Pass the following variable as a keyword arg: x. From version 0.12, the only valid positional argument will be `data`, and passing other arguments without an explicit keyword will result in an error or misinterpretation.\n",
      "  warnings.warn(\n"
     ]
    },
    {
     "data": {
      "image/png": "[encoded data removed]",
      "text/plain": [
       "<Figure size 432x288 with 1 Axes>"
      ]
     },
     "metadata": {
      "needs_background": "light"
     },
     "output_type": "display_data"
    }
   ],
   "source": [
    "sns.boxplot(df['Age'])\n",
    "plt.show()"
   ]
  },
  {
   "cell_type": "code",
   "execution_count": 381,
   "id": "948375b3",
   "metadata": {},
   "outputs": [
    {
     "data": {
      "text/plain": [
       "(array([24.]),\n",
       " array([33.]),\n",
       " 28.788888888888888,\n",
       " array([26.]),\n",
       " array([9.]),\n",
       " array([10.5]),\n",
       " array([46.5]))"
      ]
     },
     "execution_count": 381,
     "metadata": {},
     "output_type": "execute_result"
    }
   ],
   "source": [
    "#Age Column\n",
    "Q1=np.percentile(df['Age'],[25])\n",
    "Q3=np.percentile(df['Age'],[75])\n",
    "Median=np.percentile(df['Age'],[50])\n",
    "Mean=np.mean(df['Age'])\n",
    "IQR=Q3-Q1\n",
    "Lower_Whisker=Q1-(1.5*IQR)\n",
    "Upper_Whisker=Q3+(1.5*IQR)\n",
    "\n",
    "Q1,Q3,Mean,Median,IQR,Lower_Whisker,Upper_Whisker"
   ]
  },
  {
   "cell_type": "markdown",
   "id": "2f41a4b0",
   "metadata": {},
   "source": [
    "- Customers using treadmill are between ages 10-47.\n",
    "- Median Age is 26 and Mean age is 28.8\n",
    "- 50% of the customers who use treadmill are between 24-33 Years of Age. \n",
    "- Customers using treadmill above 47 Years of age are outliers."
   ]
  },
  {
   "cell_type": "code",
   "execution_count": 382,
   "id": "15647085",
   "metadata": {},
   "outputs": [
    {
     "name": "stderr",
     "output_type": "stream",
     "text": [
      "C:\\Users\\hp\\anaconda3\\lib\\site-packages\\seaborn\\_decorators.py:36: FutureWarning: Pass the following variable as a keyword arg: x. From version 0.12, the only valid positional argument will be `data`, and passing other arguments without an explicit keyword will result in an error or misinterpretation.\n",
      "  warnings.warn(\n"
     ]
    },
    {
     "data": {
      "image/png": "[encoded data removed]",
      "text/plain": [
       "<Figure size 432x288 with 1 Axes>"
      ]
     },
     "metadata": {
      "needs_background": "light"
     },
     "output_type": "display_data"
    }
   ],
   "source": [
    "sns.boxplot(df['Usage'])\n",
    "plt.show()"
   ]
  },
  {
   "cell_type": "code",
   "execution_count": 383,
   "id": "035c8294",
   "metadata": {},
   "outputs": [
    {
     "data": {
      "text/plain": [
       "(array([3.]),\n",
       " array([4.]),\n",
       " 3.4555555555555557,\n",
       " array([3.]),\n",
       " array([1.]),\n",
       " array([1.5]),\n",
       " array([5.5]))"
      ]
     },
     "execution_count": 383,
     "metadata": {},
     "output_type": "execute_result"
    }
   ],
   "source": [
    "# Usage Column\n",
    "Q1=np.percentile(df['Usage'],[25])\n",
    "Q3=np.percentile(df['Usage'],[75])\n",
    "Median=np.percentile(df['Usage'],[50])\n",
    "Mean=np.mean(df['Usage'])\n",
    "IQR=Q3-Q1\n",
    "Lower_Whisker=Q1-(1.5*IQR)\n",
    "Upper_Whisker=Q3+(1.5*IQR)\n",
    "\n",
    "Q1,Q3,Mean,Median,IQR,Lower_Whisker,Upper_Whisker"
   ]
  },
  {
   "cell_type": "markdown",
   "id": "5ffed5c8",
   "metadata": {},
   "source": [
    "- Customers use treadmill between 3-5.5 days in a Week.\n",
    "- Median no of days of usage in a week is 3 and mean is 3.5.\n",
    "- 50% of the customers use treadmill 3-4 days a week \n",
    "- Customers using treadmill for over more than 5.5 days a week are outliers."
   ]
  },
  {
   "cell_type": "code",
   "execution_count": 384,
   "id": "3a271b79",
   "metadata": {},
   "outputs": [
    {
     "data": {
      "text/plain": [
       "(array([66.]),\n",
       " array([114.75]),\n",
       " 103.19444444444444,\n",
       " array([94.]),\n",
       " array([48.75]),\n",
       " array([-7.125]),\n",
       " array([187.875]))"
      ]
     },
     "execution_count": 384,
     "metadata": {},
     "output_type": "execute_result"
    }
   ],
   "source": [
    "# Miles Column\n",
    "Q1=np.percentile(df['Miles'],[25])\n",
    "Q3=np.percentile(df['Miles'],[75])\n",
    "Median=np.percentile(df['Miles'],[50])\n",
    "Mean=np.mean(df['Miles'])\n",
    "IQR=Q3-Q1\n",
    "Lower_Whisker=min(Q1-(1.5*IQR),df['Miles'].min())\n",
    "Upper_Whisker=Q3+(1.5*IQR)\n",
    "\n",
    "Q1,Q3,Mean,Median,IQR,Lower_Whisker,Upper_Whisker"
   ]
  },
  {
   "cell_type": "markdown",
   "id": "fa300307",
   "metadata": {},
   "source": [
    "- Most of the customers run between 66-114 Miles in a week.\n",
    "- Customers who run more than 188 Miles in a week are outliers.\n",
    "- Mean of Miles are 103 and Median is 94."
   ]
  },
  {
   "cell_type": "code",
   "execution_count": 385,
   "id": "41ba2463",
   "metadata": {},
   "outputs": [
    {
     "data": {
      "text/plain": [
       "Male      104\n",
       "Female     76\n",
       "Name: Gender, dtype: int64"
      ]
     },
     "execution_count": 385,
     "metadata": {},
     "output_type": "execute_result"
    }
   ],
   "source": [
    "gender_distribution=df['Gender'].value_counts()\n",
    "gender_distribution"
   ]
  },
  {
   "cell_type": "code",
   "execution_count": 386,
   "id": "c420b67f",
   "metadata": {},
   "outputs": [
    {
     "data": {
      "image/png": "[encoded data removed]",
      "text/plain": [
       "<Figure size 432x288 with 1 Axes>"
      ]
     },
     "metadata": {},
     "output_type": "display_data"
    }
   ],
   "source": [
    "plt.pie(df['Gender'].value_counts().values,autopct='%.2f%%',labels=df['Gender'].value_counts().index)\n",
    "plt.show()"
   ]
  },
  {
   "cell_type": "code",
   "execution_count": 387,
   "id": "b0a64fa1",
   "metadata": {},
   "outputs": [
    {
     "data": {
      "image/png": "[encoded data removed]",
      "text/plain": [
       "<Figure size 432x288 with 1 Axes>"
      ]
     },
     "metadata": {},
     "output_type": "display_data"
    }
   ],
   "source": [
    "plt.pie(df['Product'].value_counts().values,autopct='%.2f%%',labels=df['Product'].value_counts().index)\n",
    "plt.show()"
   ]
  },
  {
   "cell_type": "code",
   "execution_count": 388,
   "id": "6a6bb82a",
   "metadata": {},
   "outputs": [
    {
     "data": {
      "image/png": "[encoded data removed]",
      "text/plain": [
       "<Figure size 432x288 with 1 Axes>"
      ]
     },
     "metadata": {},
     "output_type": "display_data"
    }
   ],
   "source": [
    "plt.pie(df['MaritalStatus'].value_counts().values,autopct='%.2f%%',labels=df['MaritalStatus'].value_counts().index)\n",
    "plt.show()"
   ]
  },
  {
   "cell_type": "code",
   "execution_count": 389,
   "id": "f7a3388e",
   "metadata": {},
   "outputs": [
    {
     "data": {
      "image/png": "[encoded data removed]",
      "text/plain": [
       "<Figure size 432x288 with 1 Axes>"
      ]
     },
     "metadata": {
      "needs_background": "light"
     },
     "output_type": "display_data"
    }
   ],
   "source": [
    "#Distributing the Income in 4 Groups: 'Low' 'Medium' 'High' 'Very High'\n",
    "sns.histplot(df['Income'],bins=4)\n",
    "plt.show()"
   ]
  },
  {
   "cell_type": "code",
   "execution_count": 390,
   "id": "7e5ffc81",
   "metadata": {},
   "outputs": [
    {
     "data": {
      "text/plain": [
       "<AxesSubplot:xlabel='Income', ylabel='Density'>"
      ]
     },
     "execution_count": 390,
     "metadata": {},
     "output_type": "execute_result"
    },
    {
     "data": {
      "image/png": "[encoded data removed]",
      "text/plain": [
       "<Figure size 432x288 with 1 Axes>"
      ]
     },
     "metadata": {
      "needs_background": "light"
     },
     "output_type": "display_data"
    }
   ],
   "source": [
    "sns.kdeplot(df['Income'])"
   ]
  },
  {
   "cell_type": "markdown",
   "id": "aae8caca",
   "metadata": {},
   "source": [
    "Most of the Customer's Salary ranges between 20k to 75k USD Anually."
   ]
  },
  {
   "cell_type": "markdown",
   "id": "def8faf8",
   "metadata": {},
   "source": [
    "# Effect of different features on product purchased"
   ]
  },
  {
   "cell_type": "markdown",
   "id": "74f71be8",
   "metadata": {},
   "source": [
    "## Bi-variate"
   ]
  },
  {
   "cell_type": "markdown",
   "id": "132d74e7",
   "metadata": {},
   "source": [
    "#### Marital Status VS Product"
   ]
  },
  {
   "cell_type": "code",
   "execution_count": 391,
   "id": "626cca6b",
   "metadata": {},
   "outputs": [
    {
     "data": {
      "text/html": [
       "<div>\n",
       "<style scoped>\n",
       "    .dataframe tbody tr th:only-of-type {\n",
       "        vertical-align: middle;\n",
       "    }\n",
       "\n",
       "    .dataframe tbody tr th {\n",
       "        vertical-align: top;\n",
       "    }\n",
       "\n",
       "    .dataframe thead th {\n",
       "        text-align: right;\n",
       "    }\n",
       "</style>\n",
       "<table border=\"1\" class=\"dataframe\">\n",
       "  <thead>\n",
       "    <tr style=\"text-align: right;\">\n",
       "      <th></th>\n",
       "      <th>Product</th>\n",
       "      <th>Age</th>\n",
       "      <th>Gender</th>\n",
       "      <th>Education</th>\n",
       "      <th>MaritalStatus</th>\n",
       "      <th>Usage</th>\n",
       "      <th>Fitness</th>\n",
       "      <th>Income</th>\n",
       "      <th>Miles</th>\n",
       "    </tr>\n",
       "  </thead>\n",
       "  <tbody>\n",
       "    <tr>\n",
       "      <th>0</th>\n",
       "      <td>KP281</td>\n",
       "      <td>18</td>\n",
       "      <td>Male</td>\n",
       "      <td>14</td>\n",
       "      <td>Single</td>\n",
       "      <td>3</td>\n",
       "      <td>4</td>\n",
       "      <td>29562</td>\n",
       "      <td>112</td>\n",
       "    </tr>\n",
       "    <tr>\n",
       "      <th>1</th>\n",
       "      <td>KP281</td>\n",
       "      <td>19</td>\n",
       "      <td>Male</td>\n",
       "      <td>15</td>\n",
       "      <td>Single</td>\n",
       "      <td>2</td>\n",
       "      <td>3</td>\n",
       "      <td>31836</td>\n",
       "      <td>75</td>\n",
       "    </tr>\n",
       "    <tr>\n",
       "      <th>2</th>\n",
       "      <td>KP281</td>\n",
       "      <td>19</td>\n",
       "      <td>Female</td>\n",
       "      <td>14</td>\n",
       "      <td>Partnered</td>\n",
       "      <td>4</td>\n",
       "      <td>3</td>\n",
       "      <td>30699</td>\n",
       "      <td>66</td>\n",
       "    </tr>\n",
       "    <tr>\n",
       "      <th>3</th>\n",
       "      <td>KP281</td>\n",
       "      <td>19</td>\n",
       "      <td>Male</td>\n",
       "      <td>12</td>\n",
       "      <td>Single</td>\n",
       "      <td>3</td>\n",
       "      <td>3</td>\n",
       "      <td>32973</td>\n",
       "      <td>85</td>\n",
       "    </tr>\n",
       "    <tr>\n",
       "      <th>4</th>\n",
       "      <td>KP281</td>\n",
       "      <td>20</td>\n",
       "      <td>Male</td>\n",
       "      <td>13</td>\n",
       "      <td>Partnered</td>\n",
       "      <td>4</td>\n",
       "      <td>2</td>\n",
       "      <td>35247</td>\n",
       "      <td>47</td>\n",
       "    </tr>\n",
       "    <tr>\n",
       "      <th>...</th>\n",
       "      <td>...</td>\n",
       "      <td>...</td>\n",
       "      <td>...</td>\n",
       "      <td>...</td>\n",
       "      <td>...</td>\n",
       "      <td>...</td>\n",
       "      <td>...</td>\n",
       "      <td>...</td>\n",
       "      <td>...</td>\n",
       "    </tr>\n",
       "    <tr>\n",
       "      <th>175</th>\n",
       "      <td>KP781</td>\n",
       "      <td>40</td>\n",
       "      <td>Male</td>\n",
       "      <td>21</td>\n",
       "      <td>Single</td>\n",
       "      <td>6</td>\n",
       "      <td>5</td>\n",
       "      <td>83416</td>\n",
       "      <td>200</td>\n",
       "    </tr>\n",
       "    <tr>\n",
       "      <th>176</th>\n",
       "      <td>KP781</td>\n",
       "      <td>42</td>\n",
       "      <td>Male</td>\n",
       "      <td>18</td>\n",
       "      <td>Single</td>\n",
       "      <td>5</td>\n",
       "      <td>4</td>\n",
       "      <td>89641</td>\n",
       "      <td>200</td>\n",
       "    </tr>\n",
       "    <tr>\n",
       "      <th>177</th>\n",
       "      <td>KP781</td>\n",
       "      <td>45</td>\n",
       "      <td>Male</td>\n",
       "      <td>16</td>\n",
       "      <td>Single</td>\n",
       "      <td>5</td>\n",
       "      <td>5</td>\n",
       "      <td>90886</td>\n",
       "      <td>160</td>\n",
       "    </tr>\n",
       "    <tr>\n",
       "      <th>178</th>\n",
       "      <td>KP781</td>\n",
       "      <td>47</td>\n",
       "      <td>Male</td>\n",
       "      <td>18</td>\n",
       "      <td>Partnered</td>\n",
       "      <td>4</td>\n",
       "      <td>5</td>\n",
       "      <td>104581</td>\n",
       "      <td>120</td>\n",
       "    </tr>\n",
       "    <tr>\n",
       "      <th>179</th>\n",
       "      <td>KP781</td>\n",
       "      <td>48</td>\n",
       "      <td>Male</td>\n",
       "      <td>18</td>\n",
       "      <td>Partnered</td>\n",
       "      <td>4</td>\n",
       "      <td>5</td>\n",
       "      <td>95508</td>\n",
       "      <td>180</td>\n",
       "    </tr>\n",
       "  </tbody>\n",
       "</table>\n",
       "<p>180 rows × 9 columns</p>\n",
       "</div>"
      ],
      "text/plain": [
       "    Product  Age  Gender  Education MaritalStatus  Usage  Fitness  Income  \\\n",
       "0     KP281   18    Male         14        Single      3        4   29562   \n",
       "1     KP281   19    Male         15        Single      2        3   31836   \n",
       "2     KP281   19  Female         14     Partnered      4        3   30699   \n",
       "3     KP281   19    Male         12        Single      3        3   32973   \n",
       "4     KP281   20    Male         13     Partnered      4        2   35247   \n",
       "..      ...  ...     ...        ...           ...    ...      ...     ...   \n",
       "175   KP781   40    Male         21        Single      6        5   83416   \n",
       "176   KP781   42    Male         18        Single      5        4   89641   \n",
       "177   KP781   45    Male         16        Single      5        5   90886   \n",
       "178   KP781   47    Male         18     Partnered      4        5  104581   \n",
       "179   KP781   48    Male         18     Partnered      4        5   95508   \n",
       "\n",
       "     Miles  \n",
       "0      112  \n",
       "1       75  \n",
       "2       66  \n",
       "3       85  \n",
       "4       47  \n",
       "..     ...  \n",
       "175    200  \n",
       "176    200  \n",
       "177    160  \n",
       "178    120  \n",
       "179    180  \n",
       "\n",
       "[180 rows x 9 columns]"
      ]
     },
     "execution_count": 391,
     "metadata": {},
     "output_type": "execute_result"
    }
   ],
   "source": [
    "df"
   ]
  },
  {
   "cell_type": "code",
   "execution_count": 392,
   "id": "c2244acd",
   "metadata": {},
   "outputs": [
    {
     "data": {
      "text/plain": [
       "Partnered    107\n",
       "Single        73\n",
       "Name: MaritalStatus, dtype: int64"
      ]
     },
     "execution_count": 392,
     "metadata": {},
     "output_type": "execute_result"
    }
   ],
   "source": [
    "df['MaritalStatus'].value_counts()"
   ]
  },
  {
   "cell_type": "code",
   "execution_count": 393,
   "id": "15b558b6",
   "metadata": {},
   "outputs": [
    {
     "name": "stderr",
     "output_type": "stream",
     "text": [
      "C:\\Users\\hp\\anaconda3\\lib\\site-packages\\seaborn\\_decorators.py:36: FutureWarning: Pass the following variable as a keyword arg: x. From version 0.12, the only valid positional argument will be `data`, and passing other arguments without an explicit keyword will result in an error or misinterpretation.\n",
      "  warnings.warn(\n"
     ]
    },
    {
     "data": {
      "image/png": "[encoded data removed]",
      "text/plain": [
       "<Figure size 432x288 with 1 Axes>"
      ]
     },
     "metadata": {
      "needs_background": "light"
     },
     "output_type": "display_data"
    }
   ],
   "source": [
    "sns.countplot(df['MaritalStatus'])\n",
    "plt.show()"
   ]
  },
  {
   "cell_type": "markdown",
   "id": "0a26906d",
   "metadata": {},
   "source": [
    "- 107 Customers are Married and 73 are single."
   ]
  },
  {
   "cell_type": "code",
   "execution_count": 394,
   "id": "a276215e",
   "metadata": {},
   "outputs": [
    {
     "data": {
      "text/html": [
       "<div>\n",
       "<style scoped>\n",
       "    .dataframe tbody tr th:only-of-type {\n",
       "        vertical-align: middle;\n",
       "    }\n",
       "\n",
       "    .dataframe tbody tr th {\n",
       "        vertical-align: top;\n",
       "    }\n",
       "\n",
       "    .dataframe thead th {\n",
       "        text-align: right;\n",
       "    }\n",
       "</style>\n",
       "<table border=\"1\" class=\"dataframe\">\n",
       "  <thead>\n",
       "    <tr style=\"text-align: right;\">\n",
       "      <th>MaritalStatus</th>\n",
       "      <th>Partnered</th>\n",
       "      <th>Single</th>\n",
       "      <th>All</th>\n",
       "    </tr>\n",
       "    <tr>\n",
       "      <th>Product</th>\n",
       "      <th></th>\n",
       "      <th></th>\n",
       "      <th></th>\n",
       "    </tr>\n",
       "  </thead>\n",
       "  <tbody>\n",
       "    <tr>\n",
       "      <th>KP281</th>\n",
       "      <td>48</td>\n",
       "      <td>32</td>\n",
       "      <td>80</td>\n",
       "    </tr>\n",
       "    <tr>\n",
       "      <th>KP481</th>\n",
       "      <td>36</td>\n",
       "      <td>24</td>\n",
       "      <td>60</td>\n",
       "    </tr>\n",
       "    <tr>\n",
       "      <th>KP781</th>\n",
       "      <td>23</td>\n",
       "      <td>17</td>\n",
       "      <td>40</td>\n",
       "    </tr>\n",
       "    <tr>\n",
       "      <th>All</th>\n",
       "      <td>107</td>\n",
       "      <td>73</td>\n",
       "      <td>180</td>\n",
       "    </tr>\n",
       "  </tbody>\n",
       "</table>\n",
       "</div>"
      ],
      "text/plain": [
       "MaritalStatus  Partnered  Single  All\n",
       "Product                              \n",
       "KP281                 48      32   80\n",
       "KP481                 36      24   60\n",
       "KP781                 23      17   40\n",
       "All                  107      73  180"
      ]
     },
     "execution_count": 394,
     "metadata": {},
     "output_type": "execute_result"
    }
   ],
   "source": [
    "pd.crosstab(df['Product'],df['MaritalStatus'],margins=True)"
   ]
  },
  {
   "cell_type": "code",
   "execution_count": 395,
   "id": "267d05fe",
   "metadata": {
    "scrolled": true
   },
   "outputs": [
    {
     "data": {
      "image/png": "[encoded data removed]",
      "text/plain": [
       "<Figure size 432x288 with 1 Axes>"
      ]
     },
     "metadata": {
      "needs_background": "light"
     },
     "output_type": "display_data"
    }
   ],
   "source": [
    "sns.countplot(data=df,x=df['Product'],hue=df['MaritalStatus'],dodge=True)\n",
    "plt.ylabel('Number of Customers',fontsize=14)\n",
    "plt.xlabel('Products',fontsize=14)\n",
    "plt.show()"
   ]
  },
  {
   "cell_type": "markdown",
   "id": "88063826",
   "metadata": {},
   "source": [
    "Marginal Probabilities:"
   ]
  },
  {
   "cell_type": "code",
   "execution_count": 396,
   "id": "9df82077",
   "metadata": {},
   "outputs": [
    {
     "data": {
      "text/plain": [
       "0.4444444444444444"
      ]
     },
     "execution_count": 396,
     "metadata": {},
     "output_type": "execute_result"
    }
   ],
   "source": [
    "#P[KP281]\n",
    "len(df[df['Product']=='KP281'])/len(df)"
   ]
  },
  {
   "cell_type": "code",
   "execution_count": 397,
   "id": "482abf52",
   "metadata": {},
   "outputs": [
    {
     "data": {
      "text/plain": [
       "0.3333333333333333"
      ]
     },
     "execution_count": 397,
     "metadata": {},
     "output_type": "execute_result"
    }
   ],
   "source": [
    "#P[KP481]\n",
    "len(df[df['Product']=='KP481'])/len(df)"
   ]
  },
  {
   "cell_type": "code",
   "execution_count": 398,
   "id": "e7c586fd",
   "metadata": {},
   "outputs": [
    {
     "data": {
      "text/plain": [
       "0.2222222222222222"
      ]
     },
     "execution_count": 398,
     "metadata": {},
     "output_type": "execute_result"
    }
   ],
   "source": [
    "#P[KP781]\n",
    "len(df[df['Product']=='KP781'])/len(df)"
   ]
  },
  {
   "cell_type": "code",
   "execution_count": 399,
   "id": "28d02797",
   "metadata": {},
   "outputs": [
    {
     "data": {
      "text/plain": [
       "0.40555555555555556"
      ]
     },
     "execution_count": 399,
     "metadata": {},
     "output_type": "execute_result"
    }
   ],
   "source": [
    "#p[Single]\n",
    "len(df[df['MaritalStatus']=='Single'])/len(df)"
   ]
  },
  {
   "cell_type": "code",
   "execution_count": 400,
   "id": "c7e98a08",
   "metadata": {},
   "outputs": [
    {
     "data": {
      "text/plain": [
       "0.5944444444444444"
      ]
     },
     "execution_count": 400,
     "metadata": {},
     "output_type": "execute_result"
    }
   ],
   "source": [
    "#p[Partnered]\n",
    "len(df[df['MaritalStatus']=='Partnered'])/len(df)"
   ]
  },
  {
   "cell_type": "markdown",
   "id": "3a00859b",
   "metadata": {},
   "source": [
    "Joint Probability"
   ]
  },
  {
   "cell_type": "code",
   "execution_count": 401,
   "id": "66174574",
   "metadata": {},
   "outputs": [
    {
     "data": {
      "text/plain": [
       "0.17777777777777778"
      ]
     },
     "execution_count": 401,
     "metadata": {},
     "output_type": "execute_result"
    }
   ],
   "source": [
    "#P[KP281 ∩ Single]\n",
    "len(df[(df['Product']=='KP281') & (df['MaritalStatus']=='Single')])/len(df)"
   ]
  },
  {
   "cell_type": "code",
   "execution_count": 402,
   "id": "7f659704",
   "metadata": {},
   "outputs": [
    {
     "data": {
      "text/plain": [
       "0.26666666666666666"
      ]
     },
     "execution_count": 402,
     "metadata": {},
     "output_type": "execute_result"
    }
   ],
   "source": [
    "#P[K281 ∩ Partnered]\n",
    "len(df[(df['Product']=='KP281') & (df['MaritalStatus']=='Partnered')])/len(df)"
   ]
  },
  {
   "cell_type": "code",
   "execution_count": 403,
   "id": "2374b62a",
   "metadata": {},
   "outputs": [
    {
     "data": {
      "text/plain": [
       "0.13333333333333333"
      ]
     },
     "execution_count": 403,
     "metadata": {},
     "output_type": "execute_result"
    }
   ],
   "source": [
    "#P[K481 ∩ Single]\n",
    "len(df[(df['Product']=='KP481') & (df['MaritalStatus']=='Single')])/len(df)"
   ]
  },
  {
   "cell_type": "code",
   "execution_count": 404,
   "id": "4690f610",
   "metadata": {},
   "outputs": [
    {
     "data": {
      "text/plain": [
       "0.2"
      ]
     },
     "execution_count": 404,
     "metadata": {},
     "output_type": "execute_result"
    }
   ],
   "source": [
    "#P[K481 ∩ Partnered]\n",
    "len(df[(df['Product']=='KP481') & (df['MaritalStatus']=='Partnered')])/len(df)"
   ]
  },
  {
   "cell_type": "code",
   "execution_count": 405,
   "id": "413ad167",
   "metadata": {},
   "outputs": [
    {
     "data": {
      "text/plain": [
       "0.09444444444444444"
      ]
     },
     "execution_count": 405,
     "metadata": {},
     "output_type": "execute_result"
    }
   ],
   "source": [
    "#P[K781 ∩ Single]\n",
    "len(df[(df['Product']=='KP781') & (df['MaritalStatus']=='Single')])/len(df)"
   ]
  },
  {
   "cell_type": "code",
   "execution_count": 406,
   "id": "84f1d402",
   "metadata": {},
   "outputs": [
    {
     "data": {
      "text/plain": [
       "0.12777777777777777"
      ]
     },
     "execution_count": 406,
     "metadata": {},
     "output_type": "execute_result"
    }
   ],
   "source": [
    "#P[K781 ∩ Partnered]\n",
    "len(df[(df['Product']=='KP781') & (df['MaritalStatus']=='Partnered')])/len(df)"
   ]
  },
  {
   "cell_type": "markdown",
   "id": "9f5a8ded",
   "metadata": {},
   "source": [
    "Now we will see different conditional probabilities:"
   ]
  },
  {
   "cell_type": "code",
   "execution_count": 407,
   "id": "70180917",
   "metadata": {},
   "outputs": [
    {
     "data": {
      "text/plain": [
       "0.4"
      ]
     },
     "execution_count": 407,
     "metadata": {},
     "output_type": "execute_result"
    }
   ],
   "source": [
    "#p(single|KP281)\n",
    "KP281_data=df[df['Product']=='KP281']\n",
    "len(KP281_data[KP281_data['MaritalStatus']=='Single'])/len(KP281_data)"
   ]
  },
  {
   "cell_type": "code",
   "execution_count": 408,
   "id": "9627bbbf",
   "metadata": {},
   "outputs": [
    {
     "data": {
      "text/plain": [
       "0.4"
      ]
     },
     "execution_count": 408,
     "metadata": {},
     "output_type": "execute_result"
    }
   ],
   "source": [
    "#p(single|KP481)\n",
    "KP481_data=df[df['Product']=='KP481']\n",
    "len(KP481_data[KP481_data['MaritalStatus']=='Single'])/len(KP481_data)"
   ]
  },
  {
   "cell_type": "code",
   "execution_count": 409,
   "id": "bf3a0a15",
   "metadata": {},
   "outputs": [
    {
     "data": {
      "text/plain": [
       "0.425"
      ]
     },
     "execution_count": 409,
     "metadata": {},
     "output_type": "execute_result"
    }
   ],
   "source": [
    "#p(single|KP781)\n",
    "KP781_data=df[df['Product']=='KP781']\n",
    "len(KP781_data[KP781_data['MaritalStatus']=='Single'])/len(KP781_data)"
   ]
  },
  {
   "cell_type": "code",
   "execution_count": 410,
   "id": "7699de11",
   "metadata": {},
   "outputs": [
    {
     "data": {
      "text/plain": [
       "0.6"
      ]
     },
     "execution_count": 410,
     "metadata": {},
     "output_type": "execute_result"
    }
   ],
   "source": [
    "#p(Partnered|KP281)\n",
    "KP281_data=df[df['Product']=='KP281']\n",
    "len(KP281_data[KP281_data['MaritalStatus']=='Partnered'])/len(KP281_data)"
   ]
  },
  {
   "cell_type": "code",
   "execution_count": 479,
   "id": "12319ba2",
   "metadata": {},
   "outputs": [
    {
     "data": {
      "text/plain": [
       "0.6"
      ]
     },
     "execution_count": 479,
     "metadata": {},
     "output_type": "execute_result"
    }
   ],
   "source": [
    "#p(Partnered|KP481)\n",
    "KP481_data=df[df['Product']=='KP481']\n",
    "len(KP481_data[KP481_data['MaritalStatus']=='Partnered'])/len(KP481_data)"
   ]
  },
  {
   "cell_type": "code",
   "execution_count": 480,
   "id": "e6490161",
   "metadata": {},
   "outputs": [
    {
     "data": {
      "text/plain": [
       "0.575"
      ]
     },
     "execution_count": 480,
     "metadata": {},
     "output_type": "execute_result"
    }
   ],
   "source": [
    "#p(Partnered|KP781)\n",
    "KP781_data=df[df['Product']=='KP781']\n",
    "len(KP781_data[KP781_data['MaritalStatus']=='Partnered'])/len(KP781_data)"
   ]
  },
  {
   "cell_type": "code",
   "execution_count": 481,
   "id": "f9d508b7",
   "metadata": {},
   "outputs": [
    {
     "data": {
      "text/plain": [
       "0.4383561643835616"
      ]
     },
     "execution_count": 481,
     "metadata": {},
     "output_type": "execute_result"
    }
   ],
   "source": [
    "#P(KP281/Single)\n",
    "single_data=df[df['MaritalStatus']=='Single']\n",
    "len(single_data[single_data['Product']=='KP281'])/len(single_data)\n"
   ]
  },
  {
   "cell_type": "code",
   "execution_count": 482,
   "id": "46e6c6f1",
   "metadata": {},
   "outputs": [
    {
     "data": {
      "text/plain": [
       "0.4485981308411215"
      ]
     },
     "execution_count": 482,
     "metadata": {},
     "output_type": "execute_result"
    }
   ],
   "source": [
    "#P(KP281/Partnered)\n",
    "single_data=df[df['MaritalStatus']=='Partnered']\n",
    "len(single_data[single_data['Product']=='KP281'])/len(single_data)"
   ]
  },
  {
   "cell_type": "code",
   "execution_count": 415,
   "id": "54a05718",
   "metadata": {},
   "outputs": [
    {
     "data": {
      "text/plain": [
       "0.3287671232876712"
      ]
     },
     "execution_count": 415,
     "metadata": {},
     "output_type": "execute_result"
    }
   ],
   "source": [
    "#P(KP481/Single)\n",
    "single_data=df[df['MaritalStatus']=='Single']\n",
    "len(single_data[single_data['Product']=='KP481'])/len(single_data)"
   ]
  },
  {
   "cell_type": "code",
   "execution_count": 416,
   "id": "5ebd5a48",
   "metadata": {},
   "outputs": [
    {
     "data": {
      "text/plain": [
       "0.3364485981308411"
      ]
     },
     "execution_count": 416,
     "metadata": {},
     "output_type": "execute_result"
    }
   ],
   "source": [
    "#P(KP481/Partnered)\n",
    "single_data=df[df['MaritalStatus']=='Partnered']\n",
    "len(single_data[single_data['Product']=='KP481'])/len(single_data)"
   ]
  },
  {
   "cell_type": "code",
   "execution_count": 417,
   "id": "ff5733b2",
   "metadata": {},
   "outputs": [
    {
     "data": {
      "text/plain": [
       "0.2328767123287671"
      ]
     },
     "execution_count": 417,
     "metadata": {},
     "output_type": "execute_result"
    }
   ],
   "source": [
    "#P(KP781/Single)\n",
    "single_data=df[df['MaritalStatus']=='Single']\n",
    "len(single_data[single_data['Product']=='KP781'])/len(single_data)"
   ]
  },
  {
   "cell_type": "code",
   "execution_count": 418,
   "id": "3d94a28d",
   "metadata": {},
   "outputs": [
    {
     "data": {
      "text/plain": [
       "0.21495327102803738"
      ]
     },
     "execution_count": 418,
     "metadata": {},
     "output_type": "execute_result"
    }
   ],
   "source": [
    "#P(KP781/Partnered)\n",
    "single_data=df[df['MaritalStatus']=='Partnered']\n",
    "len(single_data[single_data['Product']=='KP781'])/len(single_data)"
   ]
  },
  {
   "cell_type": "markdown",
   "id": "5ba7a2ed",
   "metadata": {},
   "source": [
    "We can see that Product purchases in not dependent on Marital Status"
   ]
  },
  {
   "cell_type": "markdown",
   "id": "4107b33d",
   "metadata": {},
   "source": [
    "Gender VS Product"
   ]
  },
  {
   "cell_type": "code",
   "execution_count": 419,
   "id": "f0d395df",
   "metadata": {},
   "outputs": [
    {
     "data": {
      "text/html": [
       "<div>\n",
       "<style scoped>\n",
       "    .dataframe tbody tr th:only-of-type {\n",
       "        vertical-align: middle;\n",
       "    }\n",
       "\n",
       "    .dataframe tbody tr th {\n",
       "        vertical-align: top;\n",
       "    }\n",
       "\n",
       "    .dataframe thead th {\n",
       "        text-align: right;\n",
       "    }\n",
       "</style>\n",
       "<table border=\"1\" class=\"dataframe\">\n",
       "  <thead>\n",
       "    <tr style=\"text-align: right;\">\n",
       "      <th>Gender</th>\n",
       "      <th>Female</th>\n",
       "      <th>Male</th>\n",
       "      <th>All</th>\n",
       "    </tr>\n",
       "    <tr>\n",
       "      <th>Product</th>\n",
       "      <th></th>\n",
       "      <th></th>\n",
       "      <th></th>\n",
       "    </tr>\n",
       "  </thead>\n",
       "  <tbody>\n",
       "    <tr>\n",
       "      <th>KP281</th>\n",
       "      <td>40</td>\n",
       "      <td>40</td>\n",
       "      <td>80</td>\n",
       "    </tr>\n",
       "    <tr>\n",
       "      <th>KP481</th>\n",
       "      <td>29</td>\n",
       "      <td>31</td>\n",
       "      <td>60</td>\n",
       "    </tr>\n",
       "    <tr>\n",
       "      <th>KP781</th>\n",
       "      <td>7</td>\n",
       "      <td>33</td>\n",
       "      <td>40</td>\n",
       "    </tr>\n",
       "    <tr>\n",
       "      <th>All</th>\n",
       "      <td>76</td>\n",
       "      <td>104</td>\n",
       "      <td>180</td>\n",
       "    </tr>\n",
       "  </tbody>\n",
       "</table>\n",
       "</div>"
      ],
      "text/plain": [
       "Gender   Female  Male  All\n",
       "Product                   \n",
       "KP281        40    40   80\n",
       "KP481        29    31   60\n",
       "KP781         7    33   40\n",
       "All          76   104  180"
      ]
     },
     "execution_count": 419,
     "metadata": {},
     "output_type": "execute_result"
    }
   ],
   "source": [
    "pd.crosstab(df['Product'],df['Gender'],margins=True)"
   ]
  },
  {
   "cell_type": "code",
   "execution_count": 420,
   "id": "56273319",
   "metadata": {},
   "outputs": [
    {
     "data": {
      "image/png": "[encoded data removed]",
      "text/plain": [
       "<Figure size 432x288 with 1 Axes>"
      ]
     },
     "metadata": {
      "needs_background": "light"
     },
     "output_type": "display_data"
    }
   ],
   "source": [
    "sns.countplot(data=df,x=df['Product'],hue=df['Gender'],dodge=True)\n",
    "plt.ylabel('Number of Customers',fontsize=14)\n",
    "plt.xlabel('Product',fontsize=14)\n",
    "plt.show()"
   ]
  },
  {
   "cell_type": "markdown",
   "id": "dc353211",
   "metadata": {},
   "source": [
    "- The customers buying KP281 can equally be a male or a female.\n",
    "- We can see little more males than female who buy KP481.\n",
    "- Number of males buying KP781 are significantly high."
   ]
  },
  {
   "cell_type": "markdown",
   "id": "bbdfc0b9",
   "metadata": {},
   "source": [
    "Marginal Probabilities:"
   ]
  },
  {
   "cell_type": "code",
   "execution_count": 421,
   "id": "683efba3",
   "metadata": {},
   "outputs": [
    {
     "data": {
      "text/plain": [
       "0.5777777777777777"
      ]
     },
     "execution_count": 421,
     "metadata": {},
     "output_type": "execute_result"
    }
   ],
   "source": [
    "#P[Male]\n",
    "len(df[df['Gender']=='Male'])/len(df)"
   ]
  },
  {
   "cell_type": "code",
   "execution_count": 422,
   "id": "11e9e5d9",
   "metadata": {},
   "outputs": [
    {
     "data": {
      "text/plain": [
       "0.4222222222222222"
      ]
     },
     "execution_count": 422,
     "metadata": {},
     "output_type": "execute_result"
    }
   ],
   "source": [
    "#P[Female]\n",
    "len(df[df['Gender']=='Female'])/len(df)"
   ]
  },
  {
   "cell_type": "markdown",
   "id": "8b91de54",
   "metadata": {},
   "source": [
    "Joint Probabilities:"
   ]
  },
  {
   "cell_type": "code",
   "execution_count": 423,
   "id": "9387aa53",
   "metadata": {},
   "outputs": [
    {
     "data": {
      "text/plain": [
       "0.2222222222222222"
      ]
     },
     "execution_count": 423,
     "metadata": {},
     "output_type": "execute_result"
    }
   ],
   "source": [
    "#P[Male ∩ KP281]\n",
    "len(df[(df['Product']=='KP281') & (df['Gender']=='Male')])/len(df)"
   ]
  },
  {
   "cell_type": "code",
   "execution_count": 424,
   "id": "9aaebe1c",
   "metadata": {},
   "outputs": [
    {
     "data": {
      "text/plain": [
       "0.2222222222222222"
      ]
     },
     "execution_count": 424,
     "metadata": {},
     "output_type": "execute_result"
    }
   ],
   "source": [
    "#P[Female ∩ KP281]\n",
    "len(df[(df['Product']=='KP281') & (df['Gender']=='Female')])/len(df)"
   ]
  },
  {
   "cell_type": "code",
   "execution_count": 425,
   "id": "cdf826a3",
   "metadata": {},
   "outputs": [
    {
     "data": {
      "text/plain": [
       "0.17222222222222222"
      ]
     },
     "execution_count": 425,
     "metadata": {},
     "output_type": "execute_result"
    }
   ],
   "source": [
    "#P[Male ∩ KP481]\n",
    "len(df[(df['Product']=='KP481') & (df['Gender']=='Male')])/len(df)"
   ]
  },
  {
   "cell_type": "code",
   "execution_count": 426,
   "id": "9d235f61",
   "metadata": {},
   "outputs": [
    {
     "data": {
      "text/plain": [
       "0.16111111111111112"
      ]
     },
     "execution_count": 426,
     "metadata": {},
     "output_type": "execute_result"
    }
   ],
   "source": [
    "#P[Female ∩ KP481]\n",
    "len(df[(df['Product']=='KP481') & (df['Gender']=='Female')])/len(df)"
   ]
  },
  {
   "cell_type": "code",
   "execution_count": 427,
   "id": "7d998077",
   "metadata": {},
   "outputs": [
    {
     "data": {
      "text/plain": [
       "0.18333333333333332"
      ]
     },
     "execution_count": 427,
     "metadata": {},
     "output_type": "execute_result"
    }
   ],
   "source": [
    "#P[Male ∩ KP781]\n",
    "len(df[(df['Product']=='KP781') & (df['Gender']=='Male')])/len(df)"
   ]
  },
  {
   "cell_type": "code",
   "execution_count": 428,
   "id": "a966353a",
   "metadata": {},
   "outputs": [
    {
     "data": {
      "text/plain": [
       "0.03888888888888889"
      ]
     },
     "execution_count": 428,
     "metadata": {},
     "output_type": "execute_result"
    }
   ],
   "source": [
    "#P[Female ∩ KP781]\n",
    "len(df[(df['Product']=='KP781') & (df['Gender']=='Female')])/len(df)"
   ]
  },
  {
   "cell_type": "markdown",
   "id": "84572501",
   "metadata": {},
   "source": [
    "Now we will see different conditional probabilities:"
   ]
  },
  {
   "cell_type": "code",
   "execution_count": 429,
   "id": "4be04bd9",
   "metadata": {},
   "outputs": [
    {
     "data": {
      "text/plain": [
       "0.5"
      ]
     },
     "execution_count": 429,
     "metadata": {},
     "output_type": "execute_result"
    }
   ],
   "source": [
    "#p(Male|KP281)\n",
    "KP281_data=df[df['Product']=='KP281']\n",
    "len(KP281_data[KP281_data['Gender']=='Male'])/len(KP281_data)"
   ]
  },
  {
   "cell_type": "code",
   "execution_count": 430,
   "id": "e86d3416",
   "metadata": {},
   "outputs": [
    {
     "data": {
      "text/plain": [
       "0.5166666666666667"
      ]
     },
     "execution_count": 430,
     "metadata": {},
     "output_type": "execute_result"
    }
   ],
   "source": [
    "#p(Male|KP481)\n",
    "KP481_data=df[df['Product']=='KP481']\n",
    "len(KP481_data[KP481_data['Gender']=='Male'])/len(KP481_data)"
   ]
  },
  {
   "cell_type": "code",
   "execution_count": 431,
   "id": "ee764551",
   "metadata": {},
   "outputs": [
    {
     "data": {
      "text/plain": [
       "0.825"
      ]
     },
     "execution_count": 431,
     "metadata": {},
     "output_type": "execute_result"
    }
   ],
   "source": [
    "#p(Male|KP781)\n",
    "KP781_data=df[df['Product']=='KP781']\n",
    "len(KP781_data[KP781_data['Gender']=='Male'])/len(KP781_data)"
   ]
  },
  {
   "cell_type": "markdown",
   "id": "9ef8af43",
   "metadata": {},
   "source": [
    "- We can see that if the treadmill is KP781 then there is 82.5% Probability that the customer is Male."
   ]
  },
  {
   "cell_type": "code",
   "execution_count": 432,
   "id": "6898689d",
   "metadata": {},
   "outputs": [
    {
     "data": {
      "text/plain": [
       "0.5"
      ]
     },
     "execution_count": 432,
     "metadata": {},
     "output_type": "execute_result"
    }
   ],
   "source": [
    "#p(Female|KP281)\n",
    "KP281_data=df[df['Product']=='KP281']\n",
    "len(KP281_data[KP281_data['Gender']=='Female'])/len(KP281_data)"
   ]
  },
  {
   "cell_type": "code",
   "execution_count": 433,
   "id": "ff766329",
   "metadata": {},
   "outputs": [
    {
     "data": {
      "text/plain": [
       "0.48333333333333334"
      ]
     },
     "execution_count": 433,
     "metadata": {},
     "output_type": "execute_result"
    }
   ],
   "source": [
    "#p(Female|KP481)\n",
    "KP481_data=df[df['Product']=='KP481']\n",
    "len(KP481_data[KP481_data['Gender']=='Female'])/len(KP481_data)"
   ]
  },
  {
   "cell_type": "code",
   "execution_count": 434,
   "id": "4db37cc2",
   "metadata": {},
   "outputs": [
    {
     "data": {
      "text/plain": [
       "0.175"
      ]
     },
     "execution_count": 434,
     "metadata": {},
     "output_type": "execute_result"
    }
   ],
   "source": [
    "#p(Female|KP781)\n",
    "KP781_data=df[df['Product']=='KP781']\n",
    "len(KP781_data[KP781_data['Gender']=='Female'])/len(KP781_data)"
   ]
  },
  {
   "cell_type": "markdown",
   "id": "b997f9ec",
   "metadata": {},
   "source": [
    "- Only 17.5% are female of those who bought KP781"
   ]
  },
  {
   "cell_type": "code",
   "execution_count": 435,
   "id": "9eb8f57b",
   "metadata": {},
   "outputs": [
    {
     "data": {
      "text/plain": [
       "0.38461538461538464"
      ]
     },
     "execution_count": 435,
     "metadata": {},
     "output_type": "execute_result"
    }
   ],
   "source": [
    "#P(KP281/Male)\n",
    "single_data=df[df['Gender']=='Male']\n",
    "len(single_data[single_data['Product']=='KP281'])/len(single_data)"
   ]
  },
  {
   "cell_type": "code",
   "execution_count": 436,
   "id": "8f8ca878",
   "metadata": {},
   "outputs": [
    {
     "data": {
      "text/plain": [
       "0.5263157894736842"
      ]
     },
     "execution_count": 436,
     "metadata": {},
     "output_type": "execute_result"
    }
   ],
   "source": [
    "#P(KP281/Female)\n",
    "single_data=df[df['Gender']=='Female']\n",
    "len(single_data[single_data['Product']=='KP281'])/len(single_data)"
   ]
  },
  {
   "cell_type": "code",
   "execution_count": 437,
   "id": "576c780d",
   "metadata": {},
   "outputs": [
    {
     "data": {
      "text/plain": [
       "0.2980769230769231"
      ]
     },
     "execution_count": 437,
     "metadata": {},
     "output_type": "execute_result"
    }
   ],
   "source": [
    "#P(KP481/Male)\n",
    "single_data=df[df['Gender']=='Male']\n",
    "len(single_data[single_data['Product']=='KP481'])/len(single_data)"
   ]
  },
  {
   "cell_type": "code",
   "execution_count": 438,
   "id": "166528c2",
   "metadata": {},
   "outputs": [
    {
     "data": {
      "text/plain": [
       "0.3815789473684211"
      ]
     },
     "execution_count": 438,
     "metadata": {},
     "output_type": "execute_result"
    }
   ],
   "source": [
    "#P(KP481/Female)\n",
    "single_data=df[df['Gender']=='Female']\n",
    "len(single_data[single_data['Product']=='KP481'])/len(single_data)"
   ]
  },
  {
   "cell_type": "code",
   "execution_count": 439,
   "id": "732b11a6",
   "metadata": {},
   "outputs": [
    {
     "data": {
      "text/plain": [
       "0.3173076923076923"
      ]
     },
     "execution_count": 439,
     "metadata": {},
     "output_type": "execute_result"
    }
   ],
   "source": [
    "#P(KP781/Male)\n",
    "single_data=df[df['Gender']=='Male']\n",
    "len(single_data[single_data['Product']=='KP781'])/len(single_data)"
   ]
  },
  {
   "cell_type": "code",
   "execution_count": 440,
   "id": "a48460ba",
   "metadata": {},
   "outputs": [
    {
     "data": {
      "text/plain": [
       "0.09210526315789473"
      ]
     },
     "execution_count": 440,
     "metadata": {},
     "output_type": "execute_result"
    }
   ],
   "source": [
    "#P(KP781/Female)\n",
    "single_data=df[df['Gender']=='Female']\n",
    "len(single_data[single_data['Product']=='KP781'])/len(single_data)"
   ]
  },
  {
   "cell_type": "markdown",
   "id": "7091bbe6",
   "metadata": {},
   "source": [
    "- It is rare that Females buy KP781."
   ]
  },
  {
   "cell_type": "markdown",
   "id": "1d603d66",
   "metadata": {},
   "source": [
    "#### Income VS Product"
   ]
  },
  {
   "cell_type": "code",
   "execution_count": 441,
   "id": "f0e5de31",
   "metadata": {},
   "outputs": [
    {
     "data": {
      "text/plain": [
       "<AxesSubplot:xlabel='Product', ylabel='Income'>"
      ]
     },
     "execution_count": 441,
     "metadata": {},
     "output_type": "execute_result"
    },
    {
     "data": {
      "image/png": "[encoded data removed]",
      "text/plain": [
       "<Figure size 432x288 with 1 Axes>"
      ]
     },
     "metadata": {
      "needs_background": "light"
     },
     "output_type": "display_data"
    }
   ],
   "source": [
    "sns.barplot(data=df,y=df['Income'],x=df['Product'])"
   ]
  },
  {
   "cell_type": "code",
   "execution_count": 442,
   "id": "322b9a34",
   "metadata": {},
   "outputs": [
    {
     "data": {
      "text/plain": [
       "<AxesSubplot:xlabel='Product', ylabel='Income'>"
      ]
     },
     "execution_count": 442,
     "metadata": {},
     "output_type": "execute_result"
    },
    {
     "data": {
      "image/png": "[encoded data removed]",
      "text/plain": [
       "<Figure size 432x288 with 1 Axes>"
      ]
     },
     "metadata": {
      "needs_background": "light"
     },
     "output_type": "display_data"
    }
   ],
   "source": [
    "sns.boxplot(data=df,y=df['Income'],x=df['Product'])"
   ]
  },
  {
   "cell_type": "markdown",
   "id": "55d7cc50",
   "metadata": {},
   "source": [
    "- Customers having annual salary below $ 55000 usually buy KP281 or KP481.\n",
    "\n",
    "- Customers having annual salary above $ 55000 are most likely to buy KP781.\n",
    "- Median Salary of customers buying KP281 and KP481 is much lower than KP&781.\n",
    "- Median Salary of Customers buying KP281 and KP481 is arround 45k-50k USD vs 75K USD for KP781"
   ]
  },
  {
   "cell_type": "markdown",
   "id": "eaa18cbe",
   "metadata": {},
   "source": [
    "#### Income VS Gender"
   ]
  },
  {
   "cell_type": "code",
   "execution_count": 443,
   "id": "2847f7ed",
   "metadata": {},
   "outputs": [
    {
     "data": {
      "text/plain": [
       "<AxesSubplot:xlabel='Gender', ylabel='Income'>"
      ]
     },
     "execution_count": 443,
     "metadata": {},
     "output_type": "execute_result"
    },
    {
     "data": {
      "image/png": "[encoded data removed]",
      "text/plain": [
       "<Figure size 432x288 with 1 Axes>"
      ]
     },
     "metadata": {
      "needs_background": "light"
     },
     "output_type": "display_data"
    }
   ],
   "source": [
    "sns.barplot(data=df,y=df['Income'],x=df['Gender'])"
   ]
  },
  {
   "cell_type": "code",
   "execution_count": 444,
   "id": "37d228fb",
   "metadata": {},
   "outputs": [
    {
     "data": {
      "text/plain": [
       "<AxesSubplot:xlabel='Gender', ylabel='Income'>"
      ]
     },
     "execution_count": 444,
     "metadata": {},
     "output_type": "execute_result"
    },
    {
     "data": {
      "image/png": "[encoded data removed]",
      "text/plain": [
       "<Figure size 432x288 with 1 Axes>"
      ]
     },
     "metadata": {
      "needs_background": "light"
     },
     "output_type": "display_data"
    }
   ],
   "source": [
    "sns.boxplot(data=df,y=df['Income'],x=df['Gender'])"
   ]
  },
  {
   "cell_type": "markdown",
   "id": "ac57f85b",
   "metadata": {},
   "source": [
    "- Median Salary of Male is greater than that of female.\n",
    "- There are more males than females who have very high salaries.\n",
    "- Starting Salary is same for both males and females."
   ]
  },
  {
   "cell_type": "code",
   "execution_count": 445,
   "id": "268278fd",
   "metadata": {},
   "outputs": [
    {
     "data": {
      "text/plain": [
       "<AxesSubplot:xlabel='Fitness', ylabel='Income'>"
      ]
     },
     "execution_count": 445,
     "metadata": {},
     "output_type": "execute_result"
    },
    {
     "data": {
      "image/png": "[encoded data removed]",
      "text/plain": [
       "<Figure size 432x288 with 1 Axes>"
      ]
     },
     "metadata": {
      "needs_background": "light"
     },
     "output_type": "display_data"
    }
   ],
   "source": [
    "sns.barplot(data=df,y=df['Income'],x=df['Fitness'])"
   ]
  },
  {
   "cell_type": "code",
   "execution_count": 446,
   "id": "dd1f2463",
   "metadata": {},
   "outputs": [
    {
     "data": {
      "text/plain": [
       "<AxesSubplot:xlabel='Fitness', ylabel='Income'>"
      ]
     },
     "execution_count": 446,
     "metadata": {},
     "output_type": "execute_result"
    },
    {
     "data": {
      "image/png": "[encoded data removed]",
      "text/plain": [
       "<Figure size 432x288 with 1 Axes>"
      ]
     },
     "metadata": {
      "needs_background": "light"
     },
     "output_type": "display_data"
    }
   ],
   "source": [
    "sns.boxplot(data=df,y=df['Income'],x=df['Fitness'])"
   ]
  },
  {
   "cell_type": "markdown",
   "id": "3840ae0c",
   "metadata": {},
   "source": [
    "- There is a direct corelation between Income and Fitness.Rich people pay more attention to their health."
   ]
  },
  {
   "cell_type": "code",
   "execution_count": 452,
   "id": "29d77120",
   "metadata": {},
   "outputs": [
    {
     "data": {
      "text/plain": [
       "<AxesSubplot:xlabel='Education', ylabel='Income'>"
      ]
     },
     "execution_count": 452,
     "metadata": {},
     "output_type": "execute_result"
    },
    {
     "data": {
      "image/png": "[encoded data removed]",
      "text/plain": [
       "<Figure size 432x288 with 1 Axes>"
      ]
     },
     "metadata": {
      "needs_background": "light"
     },
     "output_type": "display_data"
    }
   ],
   "source": [
    "sns.boxplot(data=df,y=df['Income'],x=df['Education'])"
   ]
  },
  {
   "cell_type": "markdown",
   "id": "64df6cad",
   "metadata": {},
   "source": [
    "- People educated till 16th grade or above have more income."
   ]
  },
  {
   "cell_type": "code",
   "execution_count": 453,
   "id": "24595995",
   "metadata": {},
   "outputs": [
    {
     "data": {
      "text/plain": [
       "<AxesSubplot:xlabel='Education', ylabel='Miles'>"
      ]
     },
     "execution_count": 453,
     "metadata": {},
     "output_type": "execute_result"
    },
    {
     "data": {
      "image/png": "[encoded data removed]",
      "text/plain": [
       "<Figure size 432x288 with 1 Axes>"
      ]
     },
     "metadata": {
      "needs_background": "light"
     },
     "output_type": "display_data"
    }
   ],
   "source": [
    "sns.boxplot(data=df,y=df['Miles'],x=df['Education'])"
   ]
  },
  {
   "cell_type": "markdown",
   "id": "29c8877f",
   "metadata": {},
   "source": [
    "- People educated till 16th grade or above focus more on their health.This shows that more the education more is the health awareness. "
   ]
  },
  {
   "cell_type": "code",
   "execution_count": 457,
   "id": "25142633",
   "metadata": {},
   "outputs": [
    {
     "data": {
      "text/plain": [
       "<AxesSubplot:xlabel='Gender', ylabel='Education'>"
      ]
     },
     "execution_count": 457,
     "metadata": {},
     "output_type": "execute_result"
    },
    {
     "data": {
      "image/png": "[encoded data removed]",
      "text/plain": [
       "<Figure size 432x288 with 1 Axes>"
      ]
     },
     "metadata": {
      "needs_background": "light"
     },
     "output_type": "display_data"
    }
   ],
   "source": [
    "sns.boxplot(data=df,y=df['Education'],x=df['Gender'])"
   ]
  },
  {
   "cell_type": "markdown",
   "id": "13e07098",
   "metadata": {},
   "source": [
    "- Educational Level of both male and female is the same"
   ]
  },
  {
   "cell_type": "code",
   "execution_count": 486,
   "id": "1b87340d",
   "metadata": {},
   "outputs": [
    {
     "data": {
      "text/plain": [
       "<AxesSubplot:xlabel='Product', ylabel='Usage'>"
      ]
     },
     "execution_count": 486,
     "metadata": {},
     "output_type": "execute_result"
    },
    {
     "data": {
      "image/png": "[encoded data removed]",
      "text/plain": [
       "<Figure size 432x288 with 1 Axes>"
      ]
     },
     "metadata": {
      "needs_background": "light"
     },
     "output_type": "display_data"
    }
   ],
   "source": [
    "sns.boxplot(data=df,y=df['Usage'],x=df['Product'])"
   ]
  },
  {
   "cell_type": "markdown",
   "id": "be018ca8",
   "metadata": {},
   "source": [
    "- Customers using treadmill more than 4 -5 times a week usually prefer KP781."
   ]
  },
  {
   "cell_type": "markdown",
   "id": "f77d7729",
   "metadata": {},
   "source": [
    "# Multi-Variate Analysis"
   ]
  },
  {
   "cell_type": "code",
   "execution_count": 447,
   "id": "1e3e5f7a",
   "metadata": {},
   "outputs": [
    {
     "data": {
      "text/plain": [
       "<AxesSubplot:xlabel='Gender', ylabel='Income'>"
      ]
     },
     "execution_count": 447,
     "metadata": {},
     "output_type": "execute_result"
    },
    {
     "data": {
      "image/png": "[encoded data removed]",
      "text/plain": [
       "<Figure size 432x288 with 1 Axes>"
      ]
     },
     "metadata": {
      "needs_background": "light"
     },
     "output_type": "display_data"
    }
   ],
   "source": [
    "sns.boxplot(data=df,x='Gender',y='Income',hue='MaritalStatus')"
   ]
  },
  {
   "cell_type": "markdown",
   "id": "3853faed",
   "metadata": {},
   "source": [
    "- Male and Females who are partnered have higher median salary than those of Single.\n",
    "- Partnered Male have the highest income above all."
   ]
  },
  {
   "cell_type": "code",
   "execution_count": 448,
   "id": "520433d5",
   "metadata": {},
   "outputs": [
    {
     "data": {
      "text/plain": [
       "<AxesSubplot:xlabel='Gender', ylabel='Income'>"
      ]
     },
     "execution_count": 448,
     "metadata": {},
     "output_type": "execute_result"
    },
    {
     "data": {
      "image/png": "[encoded data removed]",
      "text/plain": [
       "<Figure size 432x288 with 1 Axes>"
      ]
     },
     "metadata": {
      "needs_background": "light"
     },
     "output_type": "display_data"
    }
   ],
   "source": [
    "sns.boxplot(data=df,x='Gender',y='Income',hue='Product')"
   ]
  },
  {
   "cell_type": "markdown",
   "id": "a558e63a",
   "metadata": {},
   "source": [
    "- Irrespective of gender, customers with high income prefer KP781"
   ]
  },
  {
   "cell_type": "code",
   "execution_count": 449,
   "id": "1a3fbac1",
   "metadata": {},
   "outputs": [
    {
     "data": {
      "text/plain": [
       "<AxesSubplot:xlabel='MaritalStatus', ylabel='Income'>"
      ]
     },
     "execution_count": 449,
     "metadata": {},
     "output_type": "execute_result"
    },
    {
     "data": {
      "image/png": "[encoded data removed]",
      "text/plain": [
       "<Figure size 432x288 with 1 Axes>"
      ]
     },
     "metadata": {
      "needs_background": "light"
     },
     "output_type": "display_data"
    }
   ],
   "source": [
    "sns.boxplot(data=df,x='MaritalStatus',y='Income',hue='Product')"
   ]
  },
  {
   "cell_type": "markdown",
   "id": "979b9a31",
   "metadata": {},
   "source": [
    "- Among KP781 Customers,Partnered male have significantly higher median income than single. "
   ]
  },
  {
   "cell_type": "code",
   "execution_count": 450,
   "id": "0e90d8d2",
   "metadata": {},
   "outputs": [
    {
     "data": {
      "text/plain": [
       "<AxesSubplot:xlabel='Income', ylabel='Miles'>"
      ]
     },
     "execution_count": 450,
     "metadata": {},
     "output_type": "execute_result"
    },
    {
     "data": {
      "image/png": "[encoded data removed]",
      "text/plain": [
       "<Figure size 432x288 with 1 Axes>"
      ]
     },
     "metadata": {
      "needs_background": "light"
     },
     "output_type": "display_data"
    }
   ],
   "source": [
    "sns.scatterplot(data=df,x='Income',y='Miles',hue='Product')"
   ]
  },
  {
   "cell_type": "markdown",
   "id": "5ee9454d",
   "metadata": {},
   "source": [
    "- Customers having very high income run more mile and tend to buy KP781"
   ]
  },
  {
   "cell_type": "code",
   "execution_count": 476,
   "id": "33cc11c6",
   "metadata": {},
   "outputs": [
    {
     "data": {
      "text/html": [
       "<div>\n",
       "<style scoped>\n",
       "    .dataframe tbody tr th:only-of-type {\n",
       "        vertical-align: middle;\n",
       "    }\n",
       "\n",
       "    .dataframe tbody tr th {\n",
       "        vertical-align: top;\n",
       "    }\n",
       "\n",
       "    .dataframe thead th {\n",
       "        text-align: right;\n",
       "    }\n",
       "</style>\n",
       "<table border=\"1\" class=\"dataframe\">\n",
       "  <thead>\n",
       "    <tr style=\"text-align: right;\">\n",
       "      <th></th>\n",
       "      <th>Age</th>\n",
       "      <th>Education</th>\n",
       "      <th>Usage</th>\n",
       "      <th>Fitness</th>\n",
       "      <th>Income</th>\n",
       "      <th>Miles</th>\n",
       "    </tr>\n",
       "  </thead>\n",
       "  <tbody>\n",
       "    <tr>\n",
       "      <th>Age</th>\n",
       "      <td>1.000000</td>\n",
       "      <td>0.280496</td>\n",
       "      <td>0.015064</td>\n",
       "      <td>0.061105</td>\n",
       "      <td>0.513414</td>\n",
       "      <td>0.036618</td>\n",
       "    </tr>\n",
       "    <tr>\n",
       "      <th>Education</th>\n",
       "      <td>0.280496</td>\n",
       "      <td>1.000000</td>\n",
       "      <td>0.395155</td>\n",
       "      <td>0.410581</td>\n",
       "      <td>0.625827</td>\n",
       "      <td>0.307284</td>\n",
       "    </tr>\n",
       "    <tr>\n",
       "      <th>Usage</th>\n",
       "      <td>0.015064</td>\n",
       "      <td>0.395155</td>\n",
       "      <td>1.000000</td>\n",
       "      <td>0.668606</td>\n",
       "      <td>0.519537</td>\n",
       "      <td>0.759130</td>\n",
       "    </tr>\n",
       "    <tr>\n",
       "      <th>Fitness</th>\n",
       "      <td>0.061105</td>\n",
       "      <td>0.410581</td>\n",
       "      <td>0.668606</td>\n",
       "      <td>1.000000</td>\n",
       "      <td>0.535005</td>\n",
       "      <td>0.785702</td>\n",
       "    </tr>\n",
       "    <tr>\n",
       "      <th>Income</th>\n",
       "      <td>0.513414</td>\n",
       "      <td>0.625827</td>\n",
       "      <td>0.519537</td>\n",
       "      <td>0.535005</td>\n",
       "      <td>1.000000</td>\n",
       "      <td>0.543473</td>\n",
       "    </tr>\n",
       "    <tr>\n",
       "      <th>Miles</th>\n",
       "      <td>0.036618</td>\n",
       "      <td>0.307284</td>\n",
       "      <td>0.759130</td>\n",
       "      <td>0.785702</td>\n",
       "      <td>0.543473</td>\n",
       "      <td>1.000000</td>\n",
       "    </tr>\n",
       "  </tbody>\n",
       "</table>\n",
       "</div>"
      ],
      "text/plain": [
       "                Age  Education     Usage   Fitness    Income     Miles\n",
       "Age        1.000000   0.280496  0.015064  0.061105  0.513414  0.036618\n",
       "Education  0.280496   1.000000  0.395155  0.410581  0.625827  0.307284\n",
       "Usage      0.015064   0.395155  1.000000  0.668606  0.519537  0.759130\n",
       "Fitness    0.061105   0.410581  0.668606  1.000000  0.535005  0.785702\n",
       "Income     0.513414   0.625827  0.519537  0.535005  1.000000  0.543473\n",
       "Miles      0.036618   0.307284  0.759130  0.785702  0.543473  1.000000"
      ]
     },
     "execution_count": 476,
     "metadata": {},
     "output_type": "execute_result"
    }
   ],
   "source": [
    "df.corr()"
   ]
  },
  {
   "cell_type": "code",
   "execution_count": 478,
   "id": "1b165e74",
   "metadata": {},
   "outputs": [
    {
     "data": {
      "text/plain": [
       "<AxesSubplot:>"
      ]
     },
     "execution_count": 478,
     "metadata": {},
     "output_type": "execute_result"
    },
    {
     "data": {
      "image/png": "[encoded data removed]",
      "text/plain": [
       "<Figure size 432x288 with 2 Axes>"
      ]
     },
     "metadata": {
      "needs_background": "light"
     },
     "output_type": "display_data"
    }
   ],
   "source": [
    "sns.heatmap(df.corr(),annot=True)"
   ]
  },
  {
   "cell_type": "markdown",
   "id": "66b2d310",
   "metadata": {},
   "source": [
    "- There is a high corelation between:\n",
    "    - Education and Income\n",
    "        - The more the education,more is the income.\n",
    "    - Education and Fitness\n",
    "        - The more educated the customer,the more attention will be paid to health and fitness.\n",
    "    - Usage and Fitness\n",
    "        - Customers using treadmill more number of times in a week will be more fit.\n",
    "    - Usage and Income\n",
    "        - More the income of the customer,more is the attention towards health and better is the usage of the treadmill.\n",
    "    - Usage and Miles\n",
    "        - More usage suggest more number of miles run on treadmill.\n",
    "    - Fitness and Income\n",
    "        - More the income,more is the attention towards health or customer with better health have high income.\n",
    "    - Fitness and Miles\n",
    "        - The more the number of miles you walk/run on the tradmill better will be the fitness of the customer."
   ]
  },
  {
   "cell_type": "markdown",
   "id": "ffe225ba",
   "metadata": {},
   "source": [
    "# Recommendatitions\n",
    "### Irrespective of gender, customers with very high income should be pitched KP781.\n",
    "### Customers who do not have a very high income should be pitched KP281, KP481 focusing on KP481 more.\n",
    "### Female customers should be sold KP281 and KP481 as we can see that given a female there is only 9% chance that she will buy KP781.\n",
    "### Customers who run for more than 100 Miles in a week should be recommended KP781.\n",
    "### Customers who have rated themselves 4-5 in Fitness should be recommended KP781.\n",
    "### Customers who have education above 16 are highly educated with high income as well.  Therefore, they should be pitched KP781.\n",
    "### Customers using treadmill more than 4 -5 times a week should be recommended KP781.\n",
    "### Customers who have average income,education below 16,Usage between 3-4 Days in a week,Fitness rating below 4 and miles less than 100 should be pitched      KP281 and KP481."
   ]
  }
 ],
 "metadata": {
  "kernelspec": {
   "display_name": "Python 3 (ipykernel)",
   "language": "python",
   "name": "python3"
  },
  "language_info": {
   "codemirror_mode": {
    "name": "ipython",
    "version": 3
   },
   "file_extension": ".py",
   "mimetype": "text/x-python",
   "name": "python",
   "nbconvert_exporter": "python",
   "pygments_lexer": "ipython3",
   "version": "3.9.12"
  }
 },
 "nbformat": 4,
 "nbformat_minor": 5
}
